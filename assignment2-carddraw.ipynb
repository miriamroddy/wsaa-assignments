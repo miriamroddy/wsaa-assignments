{
 "cells": [
  {
   "cell_type": "code",
   "execution_count": 6,
   "metadata": {},
   "outputs": [],
   "source": [
    "import requests\n",
    "\n",
    "def getdeck():\n",
    "    \"\"\"Shuffles a new deck & returns its deck_id.\"\"\"\n",
    "    print(\"Shuffling...\")\n",
    "    url = \"https://deckofcardsapi.com/api/deck/new/shuffle/?deck_count=1\"\n",
    "    response = requests.get(url)\n",
    "    if response.status_code != 200:\n",
    "        print(\"Oops - could not shuffle deck!\")\n",
    "        exit(1)\n",
    "    data = response.json()\n",
    "    deck_id = data[\"deck_id\"]\n",
    "    print(\"Deck shuffled. The deck ID is:\", deck_id)\n",
    "    return deck_id"
   ]
  },
  {
   "cell_type": "markdown",
   "metadata": {},
   "source": [
    "def drawcards(deck_id):\n",
    "    \"\"\"Draw 5 cards using deck_id.\"\"\"\n",
    "    print(\"Drawing 5 cards...\")\n",
    "    url = f\"https://deckofcardsapi.com/api/deck/{deck_id}/draw/?count=5\"\n",
    "    response = requests.get(url)\n",
    "    if response.status_code != 200:\n",
    "        print(\"Oops -could not draw cards!\")\n",
    "        exit(1)\n",
    "    data = response.json()\n",
    "    cards = data[\"cards\"]\n",
    "    print(\"Success!\")\n",
    "    return cards"
   ]
  },
  {
   "cell_type": "code",
   "execution_count": null,
   "metadata": {},
   "outputs": [],
   "source": [
    "def print_cards(cards):\n",
    "    \"\"\"Print the (drawn) cards.\"\"\"\n",
    "    print(\"Showing  cards:\")\n",
    "    for card in cards:\n",
    "        print(f\" - {card['value']} of {card['suit']}\")\n",
    "    return\n"
   ]
  }
 ],
 "metadata": {
  "kernelspec": {
   "display_name": "Python 3",
   "language": "python",
   "name": "python3"
  },
  "language_info": {
   "codemirror_mode": {
    "name": "ipython",
    "version": 3
   },
   "file_extension": ".py",
   "mimetype": "text/x-python",
   "name": "python",
   "nbconvert_exporter": "python",
   "pygments_lexer": "ipython3",
   "version": "3.12.7"
  }
 },
 "nbformat": 4,
 "nbformat_minor": 2
}
